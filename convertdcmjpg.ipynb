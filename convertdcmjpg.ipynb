{
  "nbformat": 4,
  "nbformat_minor": 0,
  "metadata": {
    "kernelspec": {
      "display_name": "Python 3",
      "language": "python",
      "name": "python3"
    },
    "language_info": {
      "codemirror_mode": {
        "name": "ipython",
        "version": 3
      },
      "file_extension": ".py",
      "mimetype": "text/x-python",
      "name": "python",
      "nbconvert_exporter": "python",
      "pygments_lexer": "ipython3",
      "version": "3.6.8"
    },
    "colab": {
      "name": "convertdcmjpg.ipynb",
      "provenance": [],
      "collapsed_sections": [],
      "include_colab_link": true
    }
  },
  "cells": [
    {
      "cell_type": "markdown",
      "metadata": {
        "id": "view-in-github",
        "colab_type": "text"
      },
      "source": [
        "<a href=\"https://colab.research.google.com/github/zabbonat/AML_project/blob/master/convertdcmjpg.ipynb\" target=\"_parent\"><img src=\"https://colab.research.google.com/assets/colab-badge.svg\" alt=\"Open In Colab\"/></a>"
      ]
    },
    {
      "cell_type": "code",
      "metadata": {
        "id": "V--NPv7RK23z",
        "colab_type": "code",
        "colab": {}
      },
      "source": [
        ""
      ],
      "execution_count": 0,
      "outputs": []
    },
    {
      "cell_type": "code",
      "metadata": {
        "id": "urDMess9K3s_",
        "colab_type": "code",
        "outputId": "515292db-6c47-4f06-f02b-09c9556038b4",
        "colab": {
          "base_uri": "https://localhost:8080/",
          "height": 34
        }
      },
      "source": [
        "from google.colab import drive\n",
        "drive.mount('/content/drive')"
      ],
      "execution_count": 0,
      "outputs": [
        {
          "output_type": "stream",
          "text": [
            "Drive already mounted at /content/drive; to attempt to forcibly remount, call drive.mount(\"/content/drive\", force_remount=True).\n"
          ],
          "name": "stdout"
        }
      ]
    },
    {
      "cell_type": "code",
      "metadata": {
        "id": "ZA1fVdL_L5mf",
        "colab_type": "code",
        "outputId": "e5b733ba-ecc4-42f7-9fa7-76c4e82b42ed",
        "colab": {
          "base_uri": "https://localhost:8080/",
          "height": 34
        }
      },
      "source": [
        "!pip install pydicom"
      ],
      "execution_count": 0,
      "outputs": [
        {
          "output_type": "stream",
          "text": [
            "Requirement already satisfied: pydicom in /usr/local/lib/python3.6/dist-packages (2.0.0)\n"
          ],
          "name": "stdout"
        }
      ]
    },
    {
      "cell_type": "code",
      "metadata": {
        "id": "9CrFGonxKm0z",
        "colab_type": "code",
        "colab": {}
      },
      "source": [
        "from querymachine import QueryMachine\n",
        "import matplotlib.pyplot as plt\n",
        "import pydicom\n",
        "import os\n",
        "import pandas as pd\n",
        "from tqdm import tqdm_notebook\n",
        "pd.options.display.max_rows = 4000"
      ],
      "execution_count": 0,
      "outputs": []
    },
    {
      "cell_type": "code",
      "metadata": {
        "id": "sGiDkC2dKm02",
        "colab_type": "code",
        "colab": {}
      },
      "source": [
        "\n",
        "qm = QueryMachine()\n",
        "response = qm.getSeries()"
      ],
      "execution_count": 0,
      "outputs": []
    },
    {
      "cell_type": "code",
      "metadata": {
        "id": "Jh25bNtZKm07",
        "colab_type": "code",
        "colab": {}
      },
      "source": [
        "savepath = '/content/drive/My Drive/progetto/DILE'\n",
        "os.makedirs(savepath, exist_ok=True)\n",
        "# b_dir = savepath + '/benign'\n",
        "# m_dir = savepath + '/malignant'\n",
        "# raw_dir = savepath + '/raw_dcm'\n",
        "train_dir = savepath + '/train'\n",
        "valid_dir = savepath + '/valid'\n",
        "# os.makedirs(b_dir, exist_ok=True)\n",
        "# os.makedirs(m_dir, exist_ok=True)\n",
        "# os.makedirs(raw_dir, exist_ok=True)\n",
        "os.makedirs(train_dir, exist_ok=True)\n",
        "os.makedirs(valid_dir, exist_ok=True)\n",
        "for pth in [train_dir, valid_dir]:\n",
        "    os.makedirs(os.path.join(pth, 'benign'), exist_ok=True)\n",
        "    os.makedirs(os.path.join(pth, 'malignant'), exist_ok=True)\n",
        "    os.makedirs(os.path.join(pth, 'normal'), exist_ok=True)"
      ],
      "execution_count": 0,
      "outputs": []
    },
    {
      "cell_type": "code",
      "metadata": {
        "id": "fYVHoMhsKm09",
        "colab_type": "code",
        "outputId": "5f1c7e6f-5af0-40e9-ffc3-ebecb6c02c6b",
        "colab": {
          "base_uri": "https://localhost:8080/",
          "height": 50
        }
      },
      "source": [
        "calc = pd.read_csv('calc_case_description_train_set.csv')\n",
        "mass = pd.read_csv('mass_case_description_train_set.csv')\n",
        "labels_train = calc.append(mass, sort=False)\n",
        "labels_train['set'] = 'train'\n",
        "labels_train.set\n",
        "calc = pd.read_csv('calc_case_description_test_set.csv')\n",
        "mass = pd.read_csv('mass_case_description_test_set.csv')\n",
        "labels_test = calc.append(mass, sort=False)\n",
        "labels_test['set'] = 'test'\n",
        "print(labels_train.shape, labels_test.shape)\n",
        "labels = labels_train.append(labels_test)\n",
        "labels.shape"
      ],
      "execution_count": 0,
      "outputs": [
        {
          "output_type": "stream",
          "text": [
            "(2864, 18) (704, 18)\n"
          ],
          "name": "stdout"
        },
        {
          "output_type": "execute_result",
          "data": {
            "text/plain": [
              "(3568, 18)"
            ]
          },
          "metadata": {
            "tags": []
          },
          "execution_count": 10
        }
      ]
    },
    {
      "cell_type": "code",
      "metadata": {
        "id": "rJKt3Xw-Km0_",
        "colab_type": "code",
        "colab": {}
      },
      "source": [
        "labels.index = range(labels.shape[0])"
      ],
      "execution_count": 0,
      "outputs": []
    },
    {
      "cell_type": "code",
      "metadata": {
        "id": "xfYMN_ABKm1B",
        "colab_type": "code",
        "outputId": "004098ec-88c7-412d-bca5-2b7ed42134b2",
        "colab": {
          "base_uri": "https://localhost:8080/",
          "height": 34
        }
      },
      "source": [
        "\n",
        "ids = [r['SeriesInstanceUID'] for r in response.json() if 'cropped' in r['SeriesDescription']]\n",
        "\n",
        "len(ids), len(response.json())"
      ],
      "execution_count": 0,
      "outputs": [
        {
          "output_type": "execute_result",
          "data": {
            "text/plain": [
              "(107, 6775)"
            ]
          },
          "metadata": {
            "tags": []
          },
          "execution_count": 12
        }
      ]
    },
    {
      "cell_type": "code",
      "metadata": {
        "id": "YcprZg_sKm1D",
        "colab_type": "code",
        "outputId": "1dd0c5a6-761b-4a68-aaf2-cafe820e0b27",
        "colab": {
          "base_uri": "https://localhost:8080/",
          "height": 34
        }
      },
      "source": [
        "labs = {}\n",
        "for f in ids:\n",
        "    for row in labels.loc[:, [c for c in labels.columns if 'file path' in c]].itertuples(index=True, name=None):\n",
        "        for name in row[1:]:\n",
        "            if f in name.split('/'):\n",
        "                label = labels.loc[row[0],'pathology'].split('_')[0].lower()\n",
        "                img_set = labels.loc[row[0], 'set']\n",
        "                labs[f] = (label, img_set)\n",
        "len(labs)"
      ],
      "execution_count": 0,
      "outputs": [
        {
          "output_type": "execute_result",
          "data": {
            "text/plain": [
              "107"
            ]
          },
          "metadata": {
            "tags": []
          },
          "execution_count": 13
        }
      ]
    },
    {
      "cell_type": "code",
      "metadata": {
        "id": "z2xy-nc7Km1G",
        "colab_type": "code",
        "outputId": "99243a01-f5fd-4a81-de56-9e5946a88c69",
        "colab": {
          "base_uri": "https://localhost:8080/",
          "height": 34
        }
      },
      "source": [
        "train_counter = 0\n",
        "test_counter = 0\n",
        "for k,v in labs.items():\n",
        "    if v[1] == 'train':\n",
        "        train_counter += 1\n",
        "    else:\n",
        "        test_counter += 1\n",
        "train_counter, test_counter"
      ],
      "execution_count": 0,
      "outputs": [
        {
          "output_type": "execute_result",
          "data": {
            "text/plain": [
              "(94, 13)"
            ]
          },
          "metadata": {
            "tags": []
          },
          "execution_count": 14
        }
      ]
    },
    {
      "cell_type": "code",
      "metadata": {
        "id": "a6jfY1XOKm1J",
        "colab_type": "code",
        "colab": {}
      },
      "source": [
        "def downloadImages(response_list, labs, savepath):\n",
        "    roi_counter = 0\n",
        "    img_counter = 0\n",
        "    failed_reads = 0\n",
        "    for item in tqdm_notebook(response_list):\n",
        "    \n",
        "      series_id = item['SeriesInstanceUID']\n",
        "      if series_id not in labs.keys():\n",
        "          continue\n",
        "#         if 'ROI' in item['SeriesDescription']:\n",
        "#             roi_counter += int(item['ImageCount'])\n",
        "#         else:\n",
        "#             img_counter += int(item['ImageCount'])\n",
        "      label, img_set = labs[series_id]\n",
        "      qm.getSeriesImages(series_id, savepath=savepath)\n",
        "      images = [f for f in os.listdir(savepath) if '.dcm' in f]\n",
        "     \n",
        "      for f in images:\n",
        "        \n",
        "        filepath = os.path.join(savepath, f)\n",
        "        ds = pydicom.dcmread(filepath)\n",
        "  #             try:\n",
        "  #                 ds = pydicom.dcmread(filepath)\n",
        "  #             except:\n",
        "  #                 continue\n",
        "        os.remove(filepath)\n",
        "  #             if not label:\n",
        "  #                 return ds\n",
        "        if img_set == 'train':\n",
        "            jpg_savepath = savepath + '/train'\n",
        "            print('sono nel train')\n",
        "        else:\n",
        "            jpg_savepath = savepath + '/valid'\n",
        "            print('sono nel valid!')\n",
        "        jpg_savepath = jpg_savepath + '/' + label\n",
        "        jpg_name = series_id + '_' + f\n",
        "        jpg_filepath = os.path.join(jpg_savepath, jpg_name)\n",
        "        jpg_filepath = jpg_filepath.replace('.dcm', '.jpg')\n",
        "        ds.decompress()\n",
        "        img = ds.pixel_array\n",
        "        plt.imsave(jpg_filepath, ds.pixel_array,\n",
        "                  vmin=0, vmax=2**16, format='jpg', cmap='gray')\n",
        "          "
      ],
      "execution_count": 0,
      "outputs": []
    },
    {
      "cell_type": "code",
      "metadata": {
        "id": "fqQlK-JAKm1L",
        "colab_type": "code",
        "colab": {}
      },
      "source": [
        "\n",
        "downloadImages(response.json(), labs, savepath)"
      ],
      "execution_count": 0,
      "outputs": []
    }
  ]
}